{
 "cells": [
  {
   "cell_type": "code",
   "execution_count": 2,
   "id": "2a94204b",
   "metadata": {},
   "outputs": [],
   "source": [
    "import pandas as pd\n",
    "import matplotlib.pyplot as plt\n",
    "import seaborn as sns \n",
    "import numpy as sns\n",
    "from datetime import time\n",
    "import matplotlib.ticker as mtick\n",
    "import matplotlib.dates as mdate"
   ]
  },
  {
   "cell_type": "code",
   "execution_count": 3,
   "id": "b033f2cd",
   "metadata": {
    "collapsed": true
   },
   "outputs": [
    {
     "name": "stdout",
     "output_type": "stream",
     "text": [
     ]
    }
   ],
   "source": [
    "pip install python-binance"
   ]
  },
  {
   "cell_type": "code",
   "execution_count": 1,
   "id": "629a5349",
   "metadata": {},
   "outputs": [],
   "source": [
    "from binance.client import Client\n",
    "api_key = \"SUA CHAVE\"\n",
    "api_secret = \"SUA CHAVE\"\n",
    "client = Client(api_key,api_secret)"
   ]
  },
  {
   "cell_type": "code",
   "execution_count": 5,
   "id": "01cda7c1",
   "metadata": {
    "collapsed": true
   },
   "outputs": [
    {
     "data": {
      "text/plain": [
      ]
     },
     "execution_count": 5,
     "metadata": {},
     "output_type": "execute_result"
    }
   ],
   "source": [
    "klines = client.get_historical_klines(\"ADAUSDT\", Client.KLINE_INTERVAL_15MINUTE, \"1 Jan, 2017\")\n",
    "klines"
   ]
  },
  {
   "cell_type": "code",
   "execution_count": 6,
   "id": "addd0f10",
   "metadata": {},
   "outputs": [
    {
     "data": {
      "text/html": [
       "<div>\n",
       "<style scoped>\n",
       "    .dataframe tbody tr th:only-of-type {\n",
       "        vertical-align: middle;\n",
       "    }\n",
       "\n",
       "    .dataframe tbody tr th {\n",
       "        vertical-align: top;\n",
       "    }\n",
       "\n",
       "    .dataframe thead th {\n",
       "        text-align: right;\n",
       "    }\n",
       "</style>\n",
       "<table border=\"1\" class=\"dataframe\">\n",
       "  <thead>\n",
       "    <tr style=\"text-align: right;\">\n",
       "      <th></th>\n",
       "      <th>Open</th>\n",
       "      <th>High</th>\n",
       "      <th>Low</th>\n",
       "      <th>Close</th>\n",
       "      <th>Volume</th>\n",
       "    </tr>\n",
       "    <tr>\n",
       "      <th>Time</th>\n",
       "      <th></th>\n",
       "      <th></th>\n",
       "      <th></th>\n",
       "      <th></th>\n",
       "      <th></th>\n",
       "    </tr>\n",
       "  </thead>\n",
       "  <tbody>\n",
       "    <tr>\n",
       "      <th>2018-04-17 04:00:00</th>\n",
       "      <td>0.25551</td>\n",
       "      <td>0.28800</td>\n",
       "      <td>0.25551</td>\n",
       "      <td>0.26709</td>\n",
       "      <td>2920063.72</td>\n",
       "    </tr>\n",
       "    <tr>\n",
       "      <th>2018-04-17 04:15:00</th>\n",
       "      <td>0.26708</td>\n",
       "      <td>0.26869</td>\n",
       "      <td>0.26008</td>\n",
       "      <td>0.26301</td>\n",
       "      <td>2558095.43</td>\n",
       "    </tr>\n",
       "    <tr>\n",
       "      <th>2018-04-17 04:30:00</th>\n",
       "      <td>0.26301</td>\n",
       "      <td>0.26801</td>\n",
       "      <td>0.26290</td>\n",
       "      <td>0.26700</td>\n",
       "      <td>2003124.97</td>\n",
       "    </tr>\n",
       "    <tr>\n",
       "      <th>2018-04-17 04:45:00</th>\n",
       "      <td>0.26690</td>\n",
       "      <td>0.26705</td>\n",
       "      <td>0.26404</td>\n",
       "      <td>0.26664</td>\n",
       "      <td>662409.11</td>\n",
       "    </tr>\n",
       "    <tr>\n",
       "      <th>2018-04-17 05:00:00</th>\n",
       "      <td>0.26660</td>\n",
       "      <td>0.27798</td>\n",
       "      <td>0.26602</td>\n",
       "      <td>0.26966</td>\n",
       "      <td>2042089.34</td>\n",
       "    </tr>\n",
       "    <tr>\n",
       "      <th>...</th>\n",
       "      <td>...</td>\n",
       "      <td>...</td>\n",
       "      <td>...</td>\n",
       "      <td>...</td>\n",
       "      <td>...</td>\n",
       "    </tr>\n",
       "    <tr>\n",
       "      <th>2024-02-14 17:15:00</th>\n",
       "      <td>0.57130</td>\n",
       "      <td>0.57200</td>\n",
       "      <td>0.56940</td>\n",
       "      <td>0.57020</td>\n",
       "      <td>1237831.30</td>\n",
       "    </tr>\n",
       "    <tr>\n",
       "      <th>2024-02-14 17:30:00</th>\n",
       "      <td>0.57030</td>\n",
       "      <td>0.57030</td>\n",
       "      <td>0.56630</td>\n",
       "      <td>0.56740</td>\n",
       "      <td>3743038.10</td>\n",
       "    </tr>\n",
       "    <tr>\n",
       "      <th>2024-02-14 17:45:00</th>\n",
       "      <td>0.56730</td>\n",
       "      <td>0.56830</td>\n",
       "      <td>0.56590</td>\n",
       "      <td>0.56790</td>\n",
       "      <td>1683540.80</td>\n",
       "    </tr>\n",
       "    <tr>\n",
       "      <th>2024-02-14 18:00:00</th>\n",
       "      <td>0.56790</td>\n",
       "      <td>0.56850</td>\n",
       "      <td>0.56520</td>\n",
       "      <td>0.56650</td>\n",
       "      <td>1324161.80</td>\n",
       "    </tr>\n",
       "    <tr>\n",
       "      <th>2024-02-14 18:15:00</th>\n",
       "      <td>0.56650</td>\n",
       "      <td>0.56700</td>\n",
       "      <td>0.56600</td>\n",
       "      <td>0.56650</td>\n",
       "      <td>203649.00</td>\n",
       "    </tr>\n",
       "  </tbody>\n",
       "</table>\n",
       "<p>204053 rows × 5 columns</p>\n",
       "</div>"
      ],
      "text/plain": [
       "                        Open     High      Low    Close      Volume\n",
       "Time                                                               \n",
       "2018-04-17 04:00:00  0.25551  0.28800  0.25551  0.26709  2920063.72\n",
       "2018-04-17 04:15:00  0.26708  0.26869  0.26008  0.26301  2558095.43\n",
       "2018-04-17 04:30:00  0.26301  0.26801  0.26290  0.26700  2003124.97\n",
       "2018-04-17 04:45:00  0.26690  0.26705  0.26404  0.26664   662409.11\n",
       "2018-04-17 05:00:00  0.26660  0.27798  0.26602  0.26966  2042089.34\n",
       "...                      ...      ...      ...      ...         ...\n",
       "2024-02-14 17:15:00  0.57130  0.57200  0.56940  0.57020  1237831.30\n",
       "2024-02-14 17:30:00  0.57030  0.57030  0.56630  0.56740  3743038.10\n",
       "2024-02-14 17:45:00  0.56730  0.56830  0.56590  0.56790  1683540.80\n",
       "2024-02-14 18:00:00  0.56790  0.56850  0.56520  0.56650  1324161.80\n",
       "2024-02-14 18:15:00  0.56650  0.56700  0.56600  0.56650   203649.00\n",
       "\n",
       "[204053 rows x 5 columns]"
      ]
     },
     "execution_count": 6,
     "metadata": {},
     "output_type": "execute_result"
    }
   ],
   "source": [
    "df = pd.DataFrame(klines)\n",
    "df = df.iloc[:,:6]\n",
    "df.columns = [\"Time\",\"Open\",\"High\",\"Low\",\"Close\",\"Volume\"]\n",
    "df = df.set_index(\"Time\")\n",
    "df.index = pd.to_datetime(df.index,unit=\"ms\")\n",
    "df = df.astype(float)\n",
    "df"
   ]
  },
  {
   "cell_type": "code",
   "execution_count": 7,
   "id": "2421ab68",
   "metadata": {},
   "outputs": [
    {
     "data": {
      "text/plain": [
       "Time\n",
       "2018-04-17 04:00:00    0.26709\n",
       "2018-04-17 04:15:00    0.26301\n",
       "2018-04-17 04:30:00    0.26700\n",
       "2018-04-17 04:45:00    0.26664\n",
       "2018-04-17 05:00:00    0.26966\n",
       "                        ...   \n",
       "2024-02-14 17:15:00    0.57020\n",
       "2024-02-14 17:30:00    0.56740\n",
       "2024-02-14 17:45:00    0.56790\n",
       "2024-02-14 18:00:00    0.56650\n",
       "2024-02-14 18:15:00    0.56650\n",
       "Name: Close, Length: 204053, dtype: float64"
      ]
     },
     "execution_count": 7,
     "metadata": {},
     "output_type": "execute_result"
    }
   ],
   "source": [
    "precos = df[\"Close\"]\n",
    "precos"
   ]
  },
  {
   "cell_type": "code",
   "execution_count": 93,
   "id": "33aa6894",
   "metadata": {},
   "outputs": [],
   "source": [
    "precos_max = precos.cummax()\n",
    "drawdowns = precos/precos_max - 1\n",
    "drawdow_maximo = drawdowns.min()\n",
    "drawdow_maximo  \n",
    "pct_drawdow_maximo = drawdow_maximo  *100\n",
    "pct_drawdow_maximo = round(pct_drawdow_maximo,2)\n"
   ]
  },
  {
   "cell_type": "code",
   "execution_count": 71,
   "id": "ce4d4cce",
   "metadata": {},
   "outputs": [
    {
     "data": {
      "text/html": [
       "<div>\n",
       "<style scoped>\n",
       "    .dataframe tbody tr th:only-of-type {\n",
       "        vertical-align: middle;\n",
       "    }\n",
       "\n",
       "    .dataframe tbody tr th {\n",
       "        vertical-align: top;\n",
       "    }\n",
       "\n",
       "    .dataframe thead th {\n",
       "        text-align: right;\n",
       "    }\n",
       "</style>\n",
       "<table border=\"1\" class=\"dataframe\">\n",
       "  <thead>\n",
       "    <tr style=\"text-align: right;\">\n",
       "      <th></th>\n",
       "      <th>Close</th>\n",
       "    </tr>\n",
       "    <tr>\n",
       "      <th>Time</th>\n",
       "      <th></th>\n",
       "    </tr>\n",
       "  </thead>\n",
       "  <tbody>\n",
       "    <tr>\n",
       "      <th>2018-04-17 04:00:00</th>\n",
       "      <td>0.000000</td>\n",
       "    </tr>\n",
       "    <tr>\n",
       "      <th>2018-04-17 04:15:00</th>\n",
       "      <td>-0.015276</td>\n",
       "    </tr>\n",
       "    <tr>\n",
       "      <th>2018-04-17 04:30:00</th>\n",
       "      <td>-0.000337</td>\n",
       "    </tr>\n",
       "    <tr>\n",
       "      <th>2018-04-17 04:45:00</th>\n",
       "      <td>-0.001685</td>\n",
       "    </tr>\n",
       "    <tr>\n",
       "      <th>2018-04-17 05:00:00</th>\n",
       "      <td>0.000000</td>\n",
       "    </tr>\n",
       "    <tr>\n",
       "      <th>...</th>\n",
       "      <td>...</td>\n",
       "    </tr>\n",
       "    <tr>\n",
       "      <th>2024-02-14 17:15:00</th>\n",
       "      <td>-0.815767</td>\n",
       "    </tr>\n",
       "    <tr>\n",
       "      <th>2024-02-14 17:30:00</th>\n",
       "      <td>-0.816672</td>\n",
       "    </tr>\n",
       "    <tr>\n",
       "      <th>2024-02-14 17:45:00</th>\n",
       "      <td>-0.816511</td>\n",
       "    </tr>\n",
       "    <tr>\n",
       "      <th>2024-02-14 18:00:00</th>\n",
       "      <td>-0.816963</td>\n",
       "    </tr>\n",
       "    <tr>\n",
       "      <th>2024-02-14 18:15:00</th>\n",
       "      <td>-0.816963</td>\n",
       "    </tr>\n",
       "  </tbody>\n",
       "</table>\n",
       "<p>204053 rows × 1 columns</p>\n",
       "</div>"
      ],
      "text/plain": [
       "                        Close\n",
       "Time                         \n",
       "2018-04-17 04:00:00  0.000000\n",
       "2018-04-17 04:15:00 -0.015276\n",
       "2018-04-17 04:30:00 -0.000337\n",
       "2018-04-17 04:45:00 -0.001685\n",
       "2018-04-17 05:00:00  0.000000\n",
       "...                       ...\n",
       "2024-02-14 17:15:00 -0.815767\n",
       "2024-02-14 17:30:00 -0.816672\n",
       "2024-02-14 17:45:00 -0.816511\n",
       "2024-02-14 18:00:00 -0.816963\n",
       "2024-02-14 18:15:00 -0.816963\n",
       "\n",
       "[204053 rows x 1 columns]"
      ]
     },
     "execution_count": 71,
     "metadata": {},
     "output_type": "execute_result"
    }
   ],
   "source": [
    "a = pd.DataFrame(drawdowns)\n",
    "a"
   ]
  },
  {
   "cell_type": "code",
   "execution_count": 72,
   "id": "ac9fcd69",
   "metadata": {},
   "outputs": [
    {
     "data": {
      "text/html": [
       "<div>\n",
       "<style scoped>\n",
       "    .dataframe tbody tr th:only-of-type {\n",
       "        vertical-align: middle;\n",
       "    }\n",
       "\n",
       "    .dataframe tbody tr th {\n",
       "        vertical-align: top;\n",
       "    }\n",
       "\n",
       "    .dataframe thead th {\n",
       "        text-align: right;\n",
       "    }\n",
       "</style>\n",
       "<table border=\"1\" class=\"dataframe\">\n",
       "  <thead>\n",
       "    <tr style=\"text-align: right;\">\n",
       "      <th></th>\n",
       "      <th>Close</th>\n",
       "    </tr>\n",
       "    <tr>\n",
       "      <th>Time</th>\n",
       "      <th></th>\n",
       "    </tr>\n",
       "  </thead>\n",
       "  <tbody>\n",
       "    <tr>\n",
       "      <th>2020-03-13 02:00:00</th>\n",
       "      <td>-0.952268</td>\n",
       "    </tr>\n",
       "  </tbody>\n",
       "</table>\n",
       "</div>"
      ],
      "text/plain": [
       "                        Close\n",
       "Time                         \n",
       "2020-03-13 02:00:00 -0.952268"
      ]
     },
     "execution_count": 72,
     "metadata": {},
     "output_type": "execute_result"
    }
   ],
   "source": [
    "dmax = a[\"Close\"] == drawdow_maximo\n",
    "dmax = a[dmax]\n",
    "dmax"
   ]
  },
  {
   "cell_type": "code",
   "execution_count": null,
   "id": "6337ff41",
   "metadata": {},
   "outputs": [],
   "source": []
  },
  {
   "cell_type": "code",
   "execution_count": 91,
   "id": "8db7484d",
   "metadata": {},
   "outputs": [
    {
     "data": {
      "image/png": "[encoded data removed]",
      "text/plain": [
       "<Figure size 640x480 with 1 Axes>"
      ]
     },
     "metadata": {},
     "output_type": "display_data"
    }
   ],
   "source": [
    "fig,ax = plt.subplots()\n",
    "ax.set_ylabel('Percentual de Drawdown')\n",
    "ax.set_title('Análise de Drawdowns ao Longo do Tempo da Criptomoeda ADACARDANO ')\n",
    "ax.plot(drawdowns.index,drawdowns)\n",
    "ax.plot(dmax.index[0], dmax.values[0], \"X\", color='red', markersize=1, label=f'Drawdown Máximo: {pct_drawdow_maximo}%')\n",
    "ax.yaxis.set_major_formatter(mtick.PercentFormatter(1.0))\n",
    "ax.xaxis.set_major_locator(mdate.YearLocator(1))\n",
    "ax.annotate(dmax.index[0],\n",
    "            xy=(dmax.index[0], dmax.values[0]), xycoords='data',\n",
    "            xytext=(dmax.index[0],dmax.values[0]+0.40), textcoords='data',\n",
    "            ha=\"right\", va=\"center\", fontsize=7,\n",
    "            bbox=dict(boxstyle=\"round\", fc=\"w\"),\n",
    "            arrowprops=dict(arrowstyle=\"->\"))\n",
    "ax.legend(fontsize=8)\n",
    "plt.show()"
   ]
  },
  {
   "cell_type": "code",
   "execution_count": null,
   "id": "420efc43",
   "metadata": {},
   "outputs": [],
   "source": []
  }
 ],
 "metadata": {
  "kernelspec": {
   "display_name": "Python 3 (ipykernel)",
   "language": "python",
   "name": "python3"
  },
  "language_info": {
   "codemirror_mode": {
    "name": "ipython",
    "version": 3
   },
   "file_extension": ".py",
   "mimetype": "text/x-python",
   "name": "python",
   "nbconvert_exporter": "python",
   "pygments_lexer": "ipython3",
   "version": "3.11.5"
  }
 },
 "nbformat": 4,
 "nbformat_minor": 5
}
